{
 "cells": [
  {
   "cell_type": "code",
   "execution_count": 1,
   "id": "9074b056",
   "metadata": {},
   "outputs": [
    {
     "name": "stderr",
     "output_type": "stream",
     "text": [
      "[nltk_data] Downloading package vader_lexicon to\n",
      "[nltk_data]     C:\\Users\\autologon\\AppData\\Roaming\\nltk_data...\n"
     ]
    },
    {
     "data": {
      "text/plain": [
       "True"
      ]
     },
     "execution_count": 1,
     "metadata": {},
     "output_type": "execute_result"
    }
   ],
   "source": [
    "import nltk\n",
    "nltk.download('vader_lexicon')\n"
   ]
  },
  {
   "cell_type": "code",
   "execution_count": 5,
   "id": "5433e97c",
   "metadata": {},
   "outputs": [],
   "source": [
    "import tkinter as tk\n",
    "from tkinter import ttk, messagebox\n",
    "from nltk.sentiment import SentimentIntensityAnalyzer\n",
    "\n",
    "# Inicialização do analisador de sentimentos\n",
    "sia = SentimentIntensityAnalyzer()\n",
    "\n",
    "# Função para analisar o sentimento da frase\n",
    "def analisar_sentimento(frase):\n",
    "    # Calcula a pontuação de sentimento usando VADER\n",
    "    pontuacao = sia.polarity_scores(frase)\n",
    "    \n",
    "    # Ajustando os limiares para felicidade, tristeza e neutro\n",
    "    if pontuacao['compound'] >= 0.2:\n",
    "        return 'Felicidade'\n",
    "    elif pontuacao['compound'] <= -0.2:\n",
    "        return 'Tristeza'\n",
    "    else:\n",
    "        return 'Neutro'\n",
    "\n",
    "# Função para adicionar a mensagem do colaborador\n",
    "def enviar_mensagem():\n",
    "    nome = entry_nome.get().strip()\n",
    "    frase = entry_frase.get().strip()\n",
    "    \n",
    "    if nome == \"\" or frase == \"\":\n",
    "        messagebox.showerror(\"Erro\", \"Por favor, insira seu nome e uma frase descrevendo seu dia.\")\n",
    "        return\n",
    "\n",
    "    sentimento = analisar_sentimento(frase)\n",
    "    \n",
    "    # Adicionando a mensagem e sentimento na lista, junto com o nome\n",
    "    mensagens_colaboradores.append((nome, frase, sentimento))\n",
    "    messagebox.showinfo(\"Sucesso\", f\"Mensagem enviada com sucesso! Sentimento: {sentimento}\")\n",
    "    entry_nome.delete(0, tk.END)  # Limpar o campo de nome\n",
    "    entry_frase.delete(0, tk.END)  # Limpar o campo de frase\n",
    "\n",
    "# Função para exibir as mensagens e sentimentos no RH\n",
    "def exibir_mensagens():\n",
    "    # Limpar o conteúdo atual\n",
    "    listbox_mensagens.delete(0, tk.END)\n",
    "    \n",
    "    # Adicionando as mensagens e sentimentos na listbox\n",
    "    for nome, mensagem, sentimento in mensagens_colaboradores:\n",
    "        listbox_mensagens.insert(tk.END, f\"{nome}: {mensagem} - Sentimento: {sentimento}\")\n",
    "\n",
    "# Lista para armazenar as mensagens e sentimentos\n",
    "mensagens_colaboradores = []\n",
    "\n",
    "# Função para criar a interface\n",
    "def criar_interface():\n",
    "    # Criação da janela principal\n",
    "    root = tk.Tk()\n",
    "    root.title(\"Sistema de Análise de Sentimentos\")\n",
    "\n",
    "    # Criação do Notebook (abas)\n",
    "    notebook = ttk.Notebook(root)\n",
    "    \n",
    "    # Aba 1: Envio de mensagens pelo colaborador\n",
    "    aba_colaborador = ttk.Frame(notebook)\n",
    "    notebook.add(aba_colaborador, text=\"Envio de Mensagem\")\n",
    "    \n",
    "    # Entrada de texto para o nome do colaborador\n",
    "    tk.Label(aba_colaborador, text=\"Seu nome:\").grid(row=0, column=0, padx=10, pady=10)\n",
    "    global entry_nome\n",
    "    entry_nome = tk.Entry(aba_colaborador, width=50)\n",
    "    entry_nome.grid(row=0, column=1, padx=10, pady=10)\n",
    "    \n",
    "    # Entrada de texto para o colaborador descrever seu dia\n",
    "    tk.Label(aba_colaborador, text=\"Descreva seu dia:\").grid(row=1, column=0, padx=10, pady=10)\n",
    "    global entry_frase\n",
    "    entry_frase = tk.Entry(aba_colaborador, width=50)\n",
    "    entry_frase.grid(row=1, column=1, padx=10, pady=10)\n",
    "    \n",
    "    # Botão para enviar a mensagem\n",
    "    tk.Button(aba_colaborador, text=\"Enviar Mensagem\", command=enviar_mensagem).grid(row=2, column=0, columnspan=2, pady=20)\n",
    "\n",
    "    # Aba 2: Visualização das mensagens pelo RH\n",
    "    aba_rh = ttk.Frame(notebook)\n",
    "    notebook.add(aba_rh, text=\"Mensagens do Colaborador\")\n",
    "    \n",
    "    # Listbox para exibir as mensagens dos colaboradores\n",
    "    tk.Label(aba_rh, text=\"Mensagens dos Colaboradores:\").grid(row=0, column=0, padx=10, pady=10)\n",
    "    global listbox_mensagens\n",
    "    listbox_mensagens = tk.Listbox(aba_rh, width=60, height=15)\n",
    "    listbox_mensagens.grid(row=1, column=0, padx=10, pady=10)\n",
    "    \n",
    "    # Botão para exibir as mensagens\n",
    "    tk.Button(aba_rh, text=\"Exibir Mensagens\", command=exibir_mensagens).grid(row=2, column=0, pady=20)\n",
    "    \n",
    "    # Empacotando o notebook\n",
    "    notebook.pack(padx=10, pady=10)\n",
    "\n",
    "    # Iniciar a interface gráfica\n",
    "    root.mainloop()\n",
    "\n",
    "# Executando a interface gráfica\n",
    "criar_interface()\n"
   ]
  },
  {
   "cell_type": "code",
   "execution_count": null,
   "id": "7705909d",
   "metadata": {},
   "outputs": [],
   "source": []
  }
 ],
 "metadata": {
  "kernelspec": {
   "display_name": "Python 3 (ipykernel)",
   "language": "python",
   "name": "python3"
  },
  "language_info": {
   "codemirror_mode": {
    "name": "ipython",
    "version": 3
   },
   "file_extension": ".py",
   "mimetype": "text/x-python",
   "name": "python",
   "nbconvert_exporter": "python",
   "pygments_lexer": "ipython3",
   "version": "3.11.5"
  }
 },
 "nbformat": 4,
 "nbformat_minor": 5
}
